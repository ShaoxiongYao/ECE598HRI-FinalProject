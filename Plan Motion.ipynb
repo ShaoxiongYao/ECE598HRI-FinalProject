{
 "cells": [
  {
   "cell_type": "code",
   "execution_count": 3,
   "metadata": {},
   "outputs": [],
   "source": [
    "import pandas as pd\n",
    "\n",
    "from klampt import vis\n",
    "from klampt import WorldModel\n",
    "from klampt.plan import robotplanning\n",
    "from klampt.model import ik"
   ]
  },
  {
   "cell_type": "code",
   "execution_count": 12,
   "metadata": {},
   "outputs": [
    {
     "name": "stdout",
     "output_type": "stream",
     "text": [
      "RobotWorld::LoadRobot: TRINA_Model/urdf/TRINA_Defender.urdf\n",
      "URDFParser: Link size: 29\n",
      "URDFParser: Joint size: 24\n",
      "URDFParser: Done loading robot file TRINA_Model/urdf/TRINA_Defender.urdf\n"
     ]
    }
   ],
   "source": [
    "# load robot arm\n",
    "world = WorldModel()\n",
    "world.readFile(\"TRINA_Model/urdf/TRINA_Defender.urdf\")\n",
    "\n",
    "# save robot reference\n",
    "robot = world.robot(0)\n",
    "\n",
    "# torso_link: 25\n",
    "# left_base_link: 6\n",
    "# right_base_link: 15\n",
    "robot.enableSelfCollision(6, 25, False)\n",
    "robot.enableSelfCollision(15, 25, False)\n",
    "\n",
    "# right_EE_link: 21\n",
    "# right_shielf_link: 23\n",
    "robot.enableSelfCollision(21, 23, False)"
   ]
  },
  {
   "cell_type": "code",
   "execution_count": 18,
   "metadata": {},
   "outputs": [
    {
     "data": {
      "text/plain": [
       "True"
      ]
     },
     "execution_count": 18,
     "metadata": {},
     "output_type": "execute_result"
    }
   ],
   "source": [
    "q = [0.0, 0.0, 0.0, 0.0, 0.0, 0.0, 0.0, 1.0, -1.5, 0.0, 0.0, 0.0, 0.0, 0.0, 0.0, 0.0, -4.38821868505628, 5.762246340065182, 4.878035405541759, -5.399059262904361, -2.387644902529501, 0.0, 0.0, 0.0, 0.0, 0.0, 0.0, 0.0, 0.0]\n",
    "robot.setConfig(q)\n",
    "robot.selfCollides()"
   ]
  },
  {
   "cell_type": "code",
   "execution_count": 33,
   "metadata": {},
   "outputs": [
    {
     "name": "stdout",
     "output_type": "stream",
     "text": [
      "link 0 base0\n",
      "link 1 base1\n",
      "link 2 base2\n",
      "link 3 base3\n",
      "link 4 base4\n",
      "link 5 base_link\n",
      "link 6 left_base_link\n",
      "link 7 left_shoulder_link\n",
      "link 8 left_upperarm_link\n",
      "link 9 left_forearm_link\n",
      "link 10 left_wrist1_link\n",
      "link 11 left_wrist2_link\n",
      "link 12 left_EE_link\n",
      "link 13 left_tool_link\n",
      "link 14 left_wrist2_camera_link\n",
      "link 15 right_base_link\n",
      "link 16 right_shoulder_link\n",
      "link 17 right_upperarm_link\n",
      "link 18 right_forearm_link\n",
      "link 19 right_wrist1_link\n",
      "link 20 right_wrist2_link\n",
      "link 21 right_EE_link\n",
      "link 22 right_tool_link\n",
      "link 23 right_shield_link\n",
      "link 24 right_wrist2_camera_link\n",
      "link 25 torso_link\n",
      "link 26 head_base_link\n",
      "link 27 head_neck1_link\n",
      "link 28 head_neck2_link\n"
     ]
    }
   ],
   "source": [
    "for i in range(robot.numLinks()):\n",
    "    l = robot.link(i)\n",
    "    print(\"link\", i, l.getName())"
   ]
  },
  {
   "cell_type": "code",
   "execution_count": 25,
   "metadata": {},
   "outputs": [
    {
     "name": "stdout",
     "output_type": "stream",
     "text": [
      "world1: [0.8091326711266446, 0.6677404394773893, 1.1065313867378699]\n",
      "world2: [1.0220910862859285, -0.023146205860625324, 0.41564474139984453]\n"
     ]
    }
   ],
   "source": [
    "left_wrist = robot.link('left_wrist1_link')\n",
    "world1 = left_wrist.getWorldPosition([0, 0, 0])\n",
    "world2 = left_wrist.getWorldPosition([0, 0, 1])\n",
    "world1[0] += 0.01\n",
    "world2[0] += 0.01\n",
    "print(\"world1:\", world1)\n",
    "print(\"world2:\", world2)\n",
    "\n",
    "left_obj = ik.objective(left_wrist, local=[[0, 0, 0],[0, 0, 1]], \n",
    "                        world=[world1,world2])"
   ]
  },
  {
   "cell_type": "code",
   "execution_count": 35,
   "metadata": {},
   "outputs": [
    {
     "name": "stdout",
     "output_type": "stream",
     "text": [
      "before config: [0.0, 0.0, 0.0, 0.0, 0.0, 0.0, 0.0, 1.0, -0.3515625, 0.0, 0.0, 0.0, 0.0, 0.0, 0.0, 0.0, 0.0, 0.0, 0.0, 0.0, 0.0, 0.0, 0.0, 0.0, 0.0, 0.0, 0.0, 0.0, 0.0]\n",
      "after config: [0.0, 0.0, 0.0, 0.0, 0.0, 0.0, 0.0, 1.0, -0.3515625, 0.0, 0.0, 0.0, 0.0, 0.0, 0.0, 0.0, 0.0, 0.0, 0.0, 0.0, 0.0, 0.0, 0.0, 0.0, 0.0, 0.0, 0.0, 0.0, 0.0]\n"
     ]
    }
   ],
   "source": [
    "print(\"before config:\", robot.getConfig())\n",
    "ik.solve_nearby(left_obj, 0.1,\n",
    "                iters=1000, tol=1e-3, activeDofs=None,\n",
    "                numRestarts = 0, feasibilityCheck=None)\n",
    "print(\"after config:\", robot.getConfig())"
   ]
  },
  {
   "cell_type": "code",
   "execution_count": 36,
   "metadata": {},
   "outputs": [
    {
     "name": "stdout",
     "output_type": "stream",
     "text": [
      "vis.init(): Trying to reset from backend IPython to one of ['PyQt']\n"
     ]
    },
    {
     "ename": "AssertionError",
     "evalue": "Invalid window id",
     "output_type": "error",
     "traceback": [
      "\u001b[1;31m---------------------------------------------------------------------------\u001b[0m",
      "\u001b[1;31mAssertionError\u001b[0m                            Traceback (most recent call last)",
      "\u001b[1;32m<ipython-input-36-2a7e3eaa2d74>\u001b[0m in \u001b[0;36m<module>\u001b[1;34m\u001b[0m\n\u001b[0;32m      4\u001b[0m \u001b[0mworldpt\u001b[0m \u001b[1;33m=\u001b[0m \u001b[1;33m[\u001b[0m\u001b[1;36m1\u001b[0m\u001b[1;33m,\u001b[0m \u001b[1;36m1\u001b[0m\u001b[1;33m,\u001b[0m \u001b[1;36m1\u001b[0m\u001b[1;33m]\u001b[0m\u001b[1;33m\u001b[0m\u001b[1;33m\u001b[0m\u001b[0m\n\u001b[0;32m      5\u001b[0m \u001b[1;33m\u001b[0m\u001b[0m\n\u001b[1;32m----> 6\u001b[1;33m \u001b[1;33m(\u001b[0m\u001b[0msave\u001b[0m\u001b[1;33m,\u001b[0m\u001b[0mvalue\u001b[0m\u001b[1;33m)\u001b[0m \u001b[1;33m=\u001b[0m \u001b[0mresource\u001b[0m\u001b[1;33m.\u001b[0m\u001b[0medit\u001b[0m\u001b[1;33m(\u001b[0m\u001b[1;34m\"Local point\"\u001b[0m\u001b[1;33m,\u001b[0m\u001b[0mlocalpt\u001b[0m\u001b[1;33m,\u001b[0m\u001b[0mtype\u001b[0m\u001b[1;33m=\u001b[0m\u001b[1;34m\"Point\"\u001b[0m\u001b[1;33m,\u001b[0m\u001b[0mframe\u001b[0m\u001b[1;33m=\u001b[0m\u001b[0mleft_wrist\u001b[0m\u001b[1;33m)\u001b[0m\u001b[1;33m\u001b[0m\u001b[1;33m\u001b[0m\u001b[0m\n\u001b[0m\u001b[0;32m      7\u001b[0m \u001b[1;32mif\u001b[0m \u001b[0msave\u001b[0m\u001b[1;33m:\u001b[0m\u001b[1;33m\u001b[0m\u001b[1;33m\u001b[0m\u001b[0m\n\u001b[0;32m      8\u001b[0m     \u001b[0mlocalpt\u001b[0m \u001b[1;33m=\u001b[0m \u001b[0mvalue\u001b[0m\u001b[1;33m\u001b[0m\u001b[1;33m\u001b[0m\u001b[0m\n",
      "\u001b[1;32mc:\\users\\willi\\appdata\\local\\programs\\python\\python38\\lib\\site-packages\\klampt\\io\\resource.py\u001b[0m in \u001b[0;36medit\u001b[1;34m(name, value, type, description, editor, world, referenceObject, frame)\u001b[0m\n\u001b[0;32m    710\u001b[0m             \u001b[1;32mif\u001b[0m \u001b[0mhasattr\u001b[0m\u001b[1;33m(\u001b[0m\u001b[0mframe\u001b[0m\u001b[1;33m,\u001b[0m\u001b[1;34m'getTransform'\u001b[0m\u001b[1;33m)\u001b[0m\u001b[1;33m:\u001b[0m\u001b[1;33m\u001b[0m\u001b[1;33m\u001b[0m\u001b[0m\n\u001b[0;32m    711\u001b[0m                 \u001b[0mframe\u001b[0m \u001b[1;33m=\u001b[0m \u001b[0mframe\u001b[0m\u001b[1;33m.\u001b[0m\u001b[0mgetTransform\u001b[0m\u001b[1;33m(\u001b[0m\u001b[1;33m)\u001b[0m\u001b[1;33m\u001b[0m\u001b[1;33m\u001b[0m\u001b[0m\n\u001b[1;32m--> 712\u001b[1;33m             \u001b[1;32mreturn\u001b[0m \u001b[0meditors\u001b[0m\u001b[1;33m.\u001b[0m\u001b[0mrun\u001b[0m\u001b[1;33m(\u001b[0m\u001b[0meditors\u001b[0m\u001b[1;33m.\u001b[0m\u001b[0mPointEditor\u001b[0m\u001b[1;33m(\u001b[0m\u001b[0mname\u001b[0m\u001b[1;33m,\u001b[0m\u001b[0mvalue\u001b[0m\u001b[1;33m,\u001b[0m\u001b[0mdescription\u001b[0m\u001b[1;33m,\u001b[0m\u001b[0mworld\u001b[0m\u001b[1;33m,\u001b[0m\u001b[0mframe\u001b[0m\u001b[1;33m)\u001b[0m\u001b[1;33m)\u001b[0m\u001b[1;33m\u001b[0m\u001b[1;33m\u001b[0m\u001b[0m\n\u001b[0m\u001b[0;32m    713\u001b[0m         \u001b[1;32melif\u001b[0m \u001b[0mtype\u001b[0m \u001b[1;33m==\u001b[0m \u001b[1;34m'RigidTransform'\u001b[0m \u001b[1;32mor\u001b[0m \u001b[0mtype\u001b[0m \u001b[1;33m==\u001b[0m \u001b[1;34m'Rotation'\u001b[0m\u001b[1;33m:\u001b[0m\u001b[1;33m\u001b[0m\u001b[1;33m\u001b[0m\u001b[0m\n\u001b[0;32m    714\u001b[0m             \u001b[1;32mif\u001b[0m \u001b[0mtype\u001b[0m \u001b[1;33m==\u001b[0m \u001b[1;34m'RigidTransform'\u001b[0m \u001b[1;32mand\u001b[0m \u001b[0misinstance\u001b[0m\u001b[1;33m(\u001b[0m\u001b[0mframe\u001b[0m\u001b[1;33m,\u001b[0m\u001b[0mRigidObjectModel\u001b[0m\u001b[1;33m)\u001b[0m\u001b[1;33m:\u001b[0m\u001b[1;33m\u001b[0m\u001b[1;33m\u001b[0m\u001b[0m\n",
      "\u001b[1;32mc:\\users\\willi\\appdata\\local\\programs\\python\\python38\\lib\\site-packages\\klampt\\vis\\editors.py\u001b[0m in \u001b[0;36mrun\u001b[1;34m(editorObject)\u001b[0m\n\u001b[0;32m   1571\u001b[0m             \u001b[0m_vis_id\u001b[0m \u001b[1;33m=\u001b[0m \u001b[0mvisualization\u001b[0m\u001b[1;33m.\u001b[0m\u001b[0mcreateWindow\u001b[0m\u001b[1;33m(\u001b[0m\u001b[1;34m\"Resource Editor\"\u001b[0m\u001b[1;33m)\u001b[0m\u001b[1;33m\u001b[0m\u001b[1;33m\u001b[0m\u001b[0m\n\u001b[0;32m   1572\u001b[0m         \u001b[1;32melse\u001b[0m\u001b[1;33m:\u001b[0m\u001b[1;33m\u001b[0m\u001b[1;33m\u001b[0m\u001b[0m\n\u001b[1;32m-> 1573\u001b[1;33m             \u001b[0mvisualization\u001b[0m\u001b[1;33m.\u001b[0m\u001b[0msetWindow\u001b[0m\u001b[1;33m(\u001b[0m\u001b[0m_vis_id\u001b[0m\u001b[1;33m)\u001b[0m\u001b[1;33m\u001b[0m\u001b[1;33m\u001b[0m\u001b[0m\n\u001b[0m\u001b[0;32m   1574\u001b[0m         \u001b[0mvisualization\u001b[0m\u001b[1;33m.\u001b[0m\u001b[0msetPlugin\u001b[0m\u001b[1;33m(\u001b[0m\u001b[0meditorObject\u001b[0m\u001b[1;33m)\u001b[0m\u001b[1;33m\u001b[0m\u001b[1;33m\u001b[0m\u001b[0m\n\u001b[0;32m   1575\u001b[0m         \u001b[1;32mdef\u001b[0m \u001b[0mmakefunc\u001b[0m\u001b[1;33m(\u001b[0m\u001b[0mgl_backend\u001b[0m\u001b[1;33m)\u001b[0m\u001b[1;33m:\u001b[0m\u001b[1;33m\u001b[0m\u001b[1;33m\u001b[0m\u001b[0m\n",
      "\u001b[1;32mc:\\users\\willi\\appdata\\local\\programs\\python\\python38\\lib\\site-packages\\klampt\\vis\\visualization.py\u001b[0m in \u001b[0;36msetWindow\u001b[1;34m(id)\u001b[0m\n\u001b[0;32m    921\u001b[0m     \u001b[0m_init\u001b[0m\u001b[1;33m(\u001b[0m\u001b[1;33m)\u001b[0m\u001b[1;33m\u001b[0m\u001b[1;33m\u001b[0m\u001b[0m\n\u001b[0;32m    922\u001b[0m     \u001b[1;32mwith\u001b[0m \u001b[0m_globalLock\u001b[0m\u001b[1;33m:\u001b[0m\u001b[1;33m\u001b[0m\u001b[1;33m\u001b[0m\u001b[0m\n\u001b[1;32m--> 923\u001b[1;33m         \u001b[0m_window_manager\u001b[0m\u001b[1;33m.\u001b[0m\u001b[0msetWindow\u001b[0m\u001b[1;33m(\u001b[0m\u001b[0mid\u001b[0m\u001b[1;33m)\u001b[0m\u001b[1;33m\u001b[0m\u001b[1;33m\u001b[0m\u001b[0m\n\u001b[0m\u001b[0;32m    924\u001b[0m \u001b[1;33m\u001b[0m\u001b[0m\n\u001b[0;32m    925\u001b[0m \u001b[1;32mdef\u001b[0m \u001b[0mgetWindow\u001b[0m\u001b[1;33m(\u001b[0m\u001b[1;33m)\u001b[0m \u001b[1;33m->\u001b[0m \u001b[0mint\u001b[0m\u001b[1;33m:\u001b[0m\u001b[1;33m\u001b[0m\u001b[1;33m\u001b[0m\u001b[0m\n",
      "\u001b[1;32mc:\\users\\willi\\appdata\\local\\programs\\python\\python38\\lib\\site-packages\\klampt\\vis\\backends\\vis_qt.py\u001b[0m in \u001b[0;36msetWindow\u001b[1;34m(self, id)\u001b[0m\n\u001b[0;32m     80\u001b[0m         \u001b[1;32mif\u001b[0m \u001b[0mid\u001b[0m \u001b[1;33m==\u001b[0m \u001b[0mself\u001b[0m\u001b[1;33m.\u001b[0m\u001b[0mcurrent_window\u001b[0m\u001b[1;33m:\u001b[0m\u001b[1;33m\u001b[0m\u001b[1;33m\u001b[0m\u001b[0m\n\u001b[0;32m     81\u001b[0m             \u001b[1;32mreturn\u001b[0m\u001b[1;33m\u001b[0m\u001b[1;33m\u001b[0m\u001b[0m\n\u001b[1;32m---> 82\u001b[1;33m         \u001b[1;32massert\u001b[0m \u001b[0mid\u001b[0m \u001b[1;33m>=\u001b[0m \u001b[1;36m0\u001b[0m \u001b[1;32mand\u001b[0m \u001b[0mid\u001b[0m \u001b[1;33m<\u001b[0m \u001b[0mlen\u001b[0m\u001b[1;33m(\u001b[0m\u001b[0mself\u001b[0m\u001b[1;33m.\u001b[0m\u001b[0mwindows\u001b[0m\u001b[1;33m)\u001b[0m\u001b[1;33m,\u001b[0m\u001b[1;34m\"Invalid window id\"\u001b[0m\u001b[1;33m\u001b[0m\u001b[1;33m\u001b[0m\u001b[0m\n\u001b[0m\u001b[0;32m     83\u001b[0m         \u001b[0mself\u001b[0m\u001b[1;33m.\u001b[0m\u001b[0m_frontend\u001b[0m \u001b[1;33m=\u001b[0m \u001b[0mself\u001b[0m\u001b[1;33m.\u001b[0m\u001b[0mwindows\u001b[0m\u001b[1;33m[\u001b[0m\u001b[0mid\u001b[0m\u001b[1;33m]\u001b[0m\u001b[1;33m.\u001b[0m\u001b[0mfrontend\u001b[0m\u001b[1;33m\u001b[0m\u001b[1;33m\u001b[0m\u001b[0m\n\u001b[0;32m     84\u001b[0m         \u001b[0mself\u001b[0m\u001b[1;33m.\u001b[0m\u001b[0mwindow_title\u001b[0m \u001b[1;33m=\u001b[0m \u001b[0mself\u001b[0m\u001b[1;33m.\u001b[0m\u001b[0mwindows\u001b[0m\u001b[1;33m[\u001b[0m\u001b[0mid\u001b[0m\u001b[1;33m]\u001b[0m\u001b[1;33m.\u001b[0m\u001b[0mname\u001b[0m\u001b[1;33m\u001b[0m\u001b[1;33m\u001b[0m\u001b[0m\n",
      "\u001b[1;31mAssertionError\u001b[0m: Invalid window id"
     ]
    }
   ],
   "source": [
    "from klampt.io import resource\n",
    "\n",
    "localpt = [0, 0, 0]\n",
    "worldpt = [1, 1, 1]\n",
    "\n",
    "(save,value) = resource.edit(\"Local point\",localpt,type=\"Point\",frame=left_wrist)\n",
    "if save:\n",
    "    localpt = value\n",
    "(save,value) = resource.edit(\"World point\",worldpt,type=\"Point\",frame=None)\n",
    "if save:\n",
    "    worldpt = value\n",
    "obj = ik.objective(left_wrist,local=localpt,world=worldpt)"
   ]
  },
  {
   "cell_type": "code",
   "execution_count": 27,
   "metadata": {},
   "outputs": [
    {
     "name": "stdout",
     "output_type": "stream",
     "text": [
      "Jupyter environment detected. Enabling Open3D WebVisualizer.\n",
      "[Open3D INFO] WebRTC GUI backend enabled.\n",
      "[Open3D INFO] WebRTCWindowSystem: HTTP handshake server disabled.\n"
     ]
    }
   ],
   "source": [
    "from klampt.io import load\n",
    "import open3d as o3d"
   ]
  },
  {
   "cell_type": "code",
   "execution_count": 5,
   "metadata": {},
   "outputs": [
    {
     "data": {
      "text/plain": [
       "True"
      ]
     },
     "execution_count": 5,
     "metadata": {},
     "output_type": "execute_result"
    }
   ],
   "source": [
    "pcd = o3d.io.read_point_cloud('Dataset/torso_pcd.ply')\n",
    "o3d.io.write_point_cloud('Dataset/torso_pcd.pcd', pcd)"
   ]
  },
  {
   "cell_type": "code",
   "execution_count": 28,
   "metadata": {},
   "outputs": [
    {
     "data": {
      "text/plain": [
       "'PointCloud'"
      ]
     },
     "execution_count": 28,
     "metadata": {},
     "output_type": "execute_result"
    }
   ],
   "source": [
    "pcd = load('auto', 'Dataset/torso_pcd.pcd')\n",
    "pcd.type()"
   ]
  },
  {
   "cell_type": "code",
   "execution_count": 17,
   "metadata": {},
   "outputs": [
    {
     "name": "stdout",
     "output_type": "stream",
     "text": [
      "Help on function add in module klampt.vis.visualization:\n",
      "\n",
      "add(name, item, keepAppearance=False, **kwargs)\n",
      "    Adds an item to the visualization.\n",
      "    \n",
      "    Args:\n",
      "        name (str): a unique identifier.  If an item with the same name already\n",
      "            exists, it will no longer be shown. \n",
      "        keepAppearance (bool, optional): if True, then if there was an item that\n",
      "            had the same name, the prior item's appearance will be kept.\n",
      "        kwargs: key-value pairs to be added into the attributes dictionary.  e.g.\n",
      "            vis.add(\"geom\",geometry,color=[1,0,0,1]) adds a geometry while setting\n",
      "            its color to red.\n",
      "\n"
     ]
    }
   ],
   "source": [
    "help(vis.add)"
   ]
  },
  {
   "cell_type": "code",
   "execution_count": 22,
   "metadata": {},
   "outputs": [],
   "source": [
    "from klampt.model import geometry\n",
    "\n",
    "box = geometry.box(0.01, 0.01, 0.01)\n",
    "vis.add('box', box)"
   ]
  },
  {
   "cell_type": "code",
   "execution_count": 33,
   "metadata": {},
   "outputs": [],
   "source": [
    "R_I3 = [-1, 0, 0, 0, -1, 0, 0, 0, 1]\n",
    "R_xy = [0, -1, 0, 1, 0, 0, 0, 0, 1]\n",
    "t = [1, 0, 0]\n",
    "box.setCurrentTransform(R_xy, t)"
   ]
  },
  {
   "cell_type": "code",
   "execution_count": 29,
   "metadata": {},
   "outputs": [
    {
     "data": {
      "text/plain": [
       "Index(['cam_torso_depth', 'timestamps', 'cam_left_depth', 'cam_left_color',\n",
       "       'cam_right_depth', 'cam_right_color', 'cam_torso_color', 'gt_left_hand',\n",
       "       'gt_right_hand'],\n",
       "      dtype='object')"
      ]
     },
     "execution_count": 29,
     "metadata": {},
     "output_type": "execute_result"
    }
   ],
   "source": [
    "df = pd.read_pickle('Dataset/first_ground_truth_alice_no_sword1.pkl')\n",
    "\n",
    "df.columns"
   ]
  },
  {
   "cell_type": "code",
   "execution_count": 6,
   "metadata": {},
   "outputs": [],
   "source": [
    "color_path_seq = df['cam_torso_color']\n",
    "depth_path_seq = df['cam_torso_depth']"
   ]
  },
  {
   "cell_type": "code",
   "execution_count": 19,
   "metadata": {},
   "outputs": [
    {
     "data": {
      "text/plain": [
       "'/media/yaosx/8AF1-B496/HRI_dataset/Alice_no_sword_trial1/cam_torso/color/color_1650661815101115065.png'"
      ]
     },
     "execution_count": 19,
     "metadata": {},
     "output_type": "execute_result"
    }
   ],
   "source": [
    "color_path_seq[0].format(\"/media/yaosx/8AF1-B496/HRI_dataset\")"
   ]
  },
  {
   "cell_type": "code",
   "execution_count": 20,
   "metadata": {},
   "outputs": [
    {
     "data": {
      "text/plain": [
       "'{}/Alice_no_sword_trial1/cam_torso/depth/depth_1650661815099431944.png'"
      ]
     },
     "execution_count": 20,
     "metadata": {},
     "output_type": "execute_result"
    }
   ],
   "source": [
    "depth_path_seq[0]"
   ]
  },
  {
   "cell_type": "code",
   "execution_count": 25,
   "metadata": {},
   "outputs": [
    {
     "data": {
      "text/plain": [
       "array([[931.43615398,   0.        , 619.07725813],\n",
       "       [  0.        , 939.4127871 , 319.53233415],\n",
       "       [  0.        ,   0.        ,   1.        ]])"
      ]
     },
     "execution_count": 25,
     "metadata": {},
     "output_type": "execute_result"
    }
   ],
   "source": [
    "import pickle\n",
    "\n",
    "with open('intrinsic_calibrations.p', 'rb') as f:\n",
    "    E_dict = pickle.load(f)\n",
    "E_dict['realsense_torso'][0]"
   ]
  }
 ],
 "metadata": {
  "kernelspec": {
   "display_name": "Python 3 (ipykernel)",
   "language": "python",
   "name": "python3"
  },
  "language_info": {
   "codemirror_mode": {
    "name": "ipython",
    "version": 3
   },
   "file_extension": ".py",
   "mimetype": "text/x-python",
   "name": "python",
   "nbconvert_exporter": "python",
   "pygments_lexer": "ipython3",
   "version": "3.8.10"
  }
 },
 "nbformat": 4,
 "nbformat_minor": 4
}
