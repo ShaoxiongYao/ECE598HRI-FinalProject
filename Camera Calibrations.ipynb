{
 "cells": [
  {
   "cell_type": "markdown",
   "id": "e44befa2",
   "metadata": {},
   "source": [
    "# Camera Calibration Scripts"
   ]
  },
  {
   "cell_type": "code",
   "execution_count": null,
   "id": "c8c93d8a",
   "metadata": {},
   "outputs": [],
   "source": [
    "%load_ext autoreload\n",
    "%autoreload 2"
   ]
  },
  {
   "cell_type": "markdown",
   "id": "693e4735",
   "metadata": {},
   "source": [
    "## Image collection\n",
    "Inspired by https://stackoverflow.com/questions/34588464/python-how-to-capture-image-from-webcam-on-click-using-opencv\n",
    "\n",
    "6 -> torso\n",
    "14-> left\n",
    "22 -> right\n"
   ]
  },
  {
   "cell_type": "code",
   "execution_count": null,
   "id": "1b4c4a80",
   "metadata": {},
   "outputs": [],
   "source": [
    "import cv2\n",
    "import numpy as np\n",
    "import cv2 as cv\n",
    "import glob\n",
    "import time\n",
    "from tqdm import tqdm\n",
    "from copy import deepcopy\n",
    "import scipy.optimize as sopt\n",
    "from klampt.math import se3,so3\n",
    "from itertools import combinations\n",
    "import pickle\n",
    "\n",
    "import open3d as o3d\n",
    "from open3d_calibration import load_pc_dict\n",
    "from calibration_utils import load_cam_K\n",
    "\n",
    "import matplotlib.pyplot as plt\n",
    "%matplotlib inline"
   ]
  },
  {
   "cell_type": "code",
   "execution_count": null,
   "id": "19e2bdc2",
   "metadata": {},
   "outputs": [],
   "source": [
    "def make_1080p(cap):\n",
    "    cap.set(3, 1280)\n",
    "    cap.set(4, 720)\n",
    "\n",
    "cam1 = cv2.VideoCapture(14)\n",
    "make_1080p(cam1)\n",
    "cam2 = cv2.VideoCapture(22)\n",
    "make_1080p(cam2)\n",
    "cam3 = cv2.VideoCapture(6)\n",
    "make_1080p(cam3)\n",
    "cam_dict = {'realsense_left':cam1,'realsense_right':cam2,'realsense_torso':cam3}\n",
    "curr_frame = {'realsense_left':[],'realsense_right':[],'realsense_torso':[]}\n",
    "for i in cam_dict.keys():\n",
    "    cv2.namedWindow(i)\n",
    "\n",
    "img_counter = 0\n",
    "\n",
    "while True:\n",
    "    for camera in cam_dict.keys():\n",
    "        cam = cam_dict[camera]\n",
    "        ret, frame = cam.read()\n",
    "        if not ret:\n",
    "            print(\"failed to grab frame\")\n",
    "            break\n",
    "        \n",
    "        cv2.imshow(camera, cv2.resize(frame, (640,480)))\n",
    "        curr_frame.update({camera:frame})\n",
    "    k = cv2.waitKey(1)\n",
    "    if k%256 == 27:\n",
    "        # ESC pressed\n",
    "        print(\"Escape hit, closing...\")\n",
    "        break\n",
    "    elif k%256 == 32:\n",
    "        # SPACE pressed\n",
    "        for camera in cam_dict.keys():\n",
    "            img_name = \"./Calibration/data/{}/calib_image_frame_{}.png\".format(camera,img_counter)\n",
    "            cv2.imwrite(img_name, curr_frame[camera])\n",
    "            print(\"{} written!\".format(img_name))\n",
    "        img_counter += 1\n",
    "\n",
    "for camera in cam_dict.keys():\n",
    "    cam_dict[camera].release()\n",
    "# cam.release()\n",
    "\n",
    "cv2.destroyAllWindows()"
   ]
  },
  {
   "cell_type": "markdown",
   "id": "962a8248",
   "metadata": {},
   "source": [
    "## intrinsic calibration:\n",
    "following: https://docs.opencv.org/4.x/dc/dbb/tutorial_py_calibration.html"
   ]
  },
  {
   "cell_type": "code",
   "execution_count": null,
   "id": "a86ae930",
   "metadata": {},
   "outputs": [],
   "source": [
    "\n",
    "empty_dict = {'realsense_left':[],'realsense_right':[],'realsense_torso':[]}\n",
    "# termination criteria\n",
    "\n",
    "horizontal = 8\n",
    "vertical = 6\n",
    "size = 0.108\n",
    "criteria = (cv.TERM_CRITERIA_EPS + cv.TERM_CRITERIA_MAX_ITER, 30, 0.001)\n",
    "# prepare object points, like (0,0,0), (1,0,0), (2,0,0) ....,(6,5,0)\n",
    "objp = np.zeros((horizontal*vertical,3), np.float32)\n",
    "objp[:,:2] = np.mgrid[0:horizontal,0:vertical].T.reshape(-1,2)*size \n",
    "# Arrays to store object points and image points from all the images.\n",
    "objpoints =  deepcopy(empty_dict)\n",
    "imgpoints =  deepcopy(empty_dict) # 2d points in image plane.\n",
    "\n"
   ]
  },
  {
   "cell_type": "code",
   "execution_count": null,
   "id": "e781065b",
   "metadata": {},
   "outputs": [],
   "source": [
    "ok_dict = deepcopy(empty_dict)\n",
    "for camera in ok_dict.keys():\n",
    "    images = sorted(glob.glob('./Calibration/data/{}/calib_image_frame_*.png'.format(camera)))\n",
    "    for fname in tqdm(images):\n",
    "        img = cv.imread(fname)\n",
    "        gray = cv.cvtColor(img, cv.COLOR_BGR2GRAY)\n",
    "    #     cv.imshow('webcam', gray)\n",
    "    #     cv.waitKey()\n",
    "        # Find the chess board corners\n",
    "        ret, corners = cv.findChessboardCorners(gray, (horizontal,vertical), None)\n",
    "        ok_dict[camera].append(ret)\n",
    "    #         cv.imshow('img', img)\n",
    "    #         cv.waitKey(50)\n",
    "    cv.destroyAllWindows()"
   ]
  },
  {
   "cell_type": "code",
   "execution_count": null,
   "id": "989efd1c",
   "metadata": {},
   "outputs": [],
   "source": [
    "final_filter = np.zeros(len(ok_dict[list(ok_dict.keys())[0]]))\n",
    "final_filter[:] = True\n",
    "for i in ok_dict.keys():\n",
    "    final_filter = np.logical_and(final_filter,ok_dict[i])\n",
    "final_filter.sum()"
   ]
  },
  {
   "cell_type": "code",
   "execution_count": null,
   "id": "3bf256fc",
   "metadata": {},
   "outputs": [],
   "source": [
    "ok_dict = deepcopy(empty_dict)\n",
    "\n",
    "for camera in ok_dict.keys():\n",
    "    images = np.array(sorted(glob.glob('./Calibration/data/{}/calib_image_frame_*.png'.format(camera))))\n",
    "    images = images[final_filter]\n",
    "    for fname in tqdm(images):\n",
    "        img = cv.imread(fname)\n",
    "        gray = cv.cvtColor(img, cv.COLOR_BGR2GRAY)\n",
    "    #     cv.imshow('webcam', gray)\n",
    "    #     cv.waitKey()\n",
    "        # Find the chess board corners\n",
    "        ret, corners = cv.findChessboardCorners(gray, (horizontal,vertical), None)\n",
    "        ok_dict[camera].append(ret)\n",
    "    #     # If found, add object points, image points (after refining them)\n",
    "        if ret == True:\n",
    "            objpoints[camera].append(objp)\n",
    "            corners2 = cv.cornerSubPix(gray,corners, (11,11), (-1,-1), criteria)\n",
    "            imgpoints[camera].append(corners)\n",
    "            # Draw and display the corners\n",
    "            cv.drawChessboardCorners(img, (horizontal,vertical), corners2, ret)\n",
    "#             cv.imshow('img', img)\n",
    "#             cv.waitKey(100)\n",
    "    cv.destroyAllWindows()"
   ]
  },
  {
   "cell_type": "code",
   "execution_count": null,
   "id": "09556656",
   "metadata": {},
   "outputs": [],
   "source": [
    "calibrations = deepcopy(empty_dict)\n",
    "for camera in ok_dict.keys():\n",
    "    \n",
    "    ret, mtx, dist, rvecs, tvecs = cv.calibrateCamera(objpoints[camera], imgpoints[camera], gray.shape[::-1], None, None)\n",
    "    calibrations.update({camera:[mtx,dist,rvecs,tvecs]})\n",
    "    mean_error = 0\n",
    "    for i in range(len(objpoints)):\n",
    "        imgpoints2, _ = cv.projectPoints(objpoints[camera][i], rvecs[i], tvecs[i], mtx, dist)\n",
    "        error = cv.norm(imgpoints[camera][i], imgpoints2, cv.NORM_L2)/len(imgpoints2)\n",
    "        mean_error += error\n",
    "    print( \"total error for camera = {}: {}\".format(camera,mean_error/len(objpoints)) )"
   ]
  },
  {
   "cell_type": "markdown",
   "id": "40b5f7b5",
   "metadata": {},
   "source": [
    "## Extrinsic Calibration\n",
    "from: https://docs.opencv.org/4.x/d7/d53/tutorial_py_pose.html"
   ]
  },
  {
   "cell_type": "code",
   "execution_count": null,
   "id": "af3a5f12",
   "metadata": {},
   "outputs": [],
   "source": [
    "def draw(img, corners, imgpts):\n",
    "    corner = tuple(corners[0].ravel().astype(int))\n",
    "    img = cv.line(img, corner, tuple(imgpts[0].ravel().astype(np.int)), (255,0,0), 5)\n",
    "    img = cv.line(img, corner, tuple(imgpts[1].ravel().astype(np.int)), (0,255,0), 5)\n",
    "    img = cv.line(img, corner, tuple(imgpts[2].ravel().astype(np.int)), (0,0,255), 5)\n",
    "    return img\n",
    "\n",
    "criteria = (cv.TERM_CRITERIA_EPS + cv.TERM_CRITERIA_MAX_ITER, 30, 0.001)\n",
    "objp = np.zeros((horizontal*vertical,3), np.float32)\n",
    "objp[:,:2] = np.mgrid[0:horizontal,0:vertical].T.reshape(-1,2)*size\n",
    "axis = np.float32([[2*size,0,0], [0,2*size,0], [0,0,-2*size]]).reshape(-1,3)"
   ]
  },
  {
   "cell_type": "code",
   "execution_count": null,
   "id": "c3811de2",
   "metadata": {},
   "outputs": [],
   "source": [
    "corner = deepcopy(empty_dict)\n",
    "rs = deepcopy(empty_dict)\n",
    "ts = deepcopy(empty_dict)\n",
    "\n",
    "for camera in ok_dict.keys():\n",
    "    images = np.array(sorted(glob.glob('./Calibration/data/{}/calib_image_frame_*.png'.format(camera))))\n",
    "    images = images[final_filter]\n",
    "    mtx, dist, rvecs, tvecs = calibrations[camera]\n",
    "    for fname in tqdm(images):\n",
    "        \n",
    "        img = cv.imread(fname)\n",
    "        gray = cv.cvtColor(img,cv.COLOR_BGR2GRAY)\n",
    "        ret, corners = cv.findChessboardCorners(gray, (horizontal,vertical),None)\n",
    "        if ret == True:\n",
    "            corners2 = cv.cornerSubPix(gray,corners,(11,11),(-1,-1),criteria)\n",
    "            # Find the rotation and translation vectors.\n",
    "            ret,rvecs, tvecs = cv.solvePnP(objp, corners2, mtx, dist)\n",
    "            rs[camera].append(rvecs)\n",
    "            ts[camera].append(tvecs)\n",
    "            # project 3D points to image plane\n",
    "            imgpts, jac = cv.projectPoints(axis, rvecs, tvecs, mtx, dist)\n",
    "            img = draw(img,corners2,imgpts)\n",
    "            cv.imshow('img',img)\n",
    "            k = cv.waitKey(0) & 0xFF\n",
    "            if k == ord('l'):\n",
    "                corner[camera].append('l')\n",
    "            else:\n",
    "                corner[camera].append('r')\n",
    "#         if k == ord('s'):\n",
    "#             cv.imwrite(fname[:6]+'.png', img)\n",
    "cv.destroyAllWindows()"
   ]
  },
  {
   "cell_type": "code",
   "execution_count": null,
   "id": "5c562ca0",
   "metadata": {},
   "outputs": [],
   "source": [
    "corner_mask =  np.zeros(len(corner[list(ok_dict.keys())[0]]))\n",
    "corner_mask[:] = True\n",
    "for i in range(len(corner.keys())-1):\n",
    "    this = list(corner.keys())[i]\n",
    "    that = list(corner.keys())[i+1]\n",
    "    equal = corner[this] == corner[that]\n",
    "    corner_mask = np.logical_and(corner_mask,equal)\n",
    "# corner_mask = np.array(corner['realsense']) == np.array(corner['webcam'])\n",
    "compatibility_mask = final_filter.copy()\n",
    "compatibility_mask[:] = False\n",
    "compatibility_mask[final_filter] = corner_mask\n",
    "final_mask = np.logical_and(final_filter,compatibility_mask)\n",
    "final_mask"
   ]
  },
  {
   "cell_type": "code",
   "execution_count": null,
   "id": "5427cb67",
   "metadata": {},
   "outputs": [],
   "source": [
    "m_rs = deepcopy(empty_dict)\n",
    "m_ts = deepcopy(empty_dict)\n",
    "\n",
    "for camera in ts.keys():\n",
    "    m_rs.update({camera:np.array(rs[camera])[corner_mask].reshape(-1,3).tolist()})\n",
    "    m_ts.update({camera:(np.array((ts[camera]))[corner_mask].reshape(-1,3)).tolist()})"
   ]
  },
  {
   "cell_type": "code",
   "execution_count": null,
   "id": "b95767a6",
   "metadata": {},
   "outputs": [],
   "source": [
    "import scipy.optimize as sopt\n",
    "from klampt.math import se3,so3\n",
    "from itertools import combinations\n",
    "import pickle"
   ]
  },
  {
   "cell_type": "code",
   "execution_count": null,
   "id": "79bcb75a",
   "metadata": {},
   "outputs": [],
   "source": [
    "def transformation_error(x,*args):\n",
    "    \"\"\"\n",
    "    x:[0:6] pos + rotvec of one camera w.r.t. to the other\n",
    "    \"\"\"\n",
    "    x = x.tolist()\n",
    "    R_w_r = so3.from_rotation_vector(x[3:6])\n",
    "#     print(R_w_r)\n",
    "    T_w_r = x[:3]\n",
    "    m1 = args[0]\n",
    "    m2 = args[1]\n",
    "#     print(T_w_r)\n",
    "    errors = []\n",
    "    for i,pt in enumerate(m1):\n",
    "#         print(pt)\n",
    "        pred_pt = se3.apply((R_w_r,T_w_r),pt)\n",
    "        errors.append(np.linalg.norm(np.array(pred_pt)-np.array(m2[i])))\n",
    "    \n",
    "    return np.mean(errors)"
   ]
  },
  {
   "cell_type": "code",
   "execution_count": null,
   "id": "f8152f6f",
   "metadata": {},
   "outputs": [],
   "source": [
    "transforms = {}\n",
    "for pair in combinations(m_rs.keys(), r =2):\n",
    "    source = pair[0]\n",
    "    destination = pair[1]\n",
    "    res = sopt.minimize(transformation_error,np.array([0,0,0,1,0,0]),args = (m_ts[source],m_ts[destination]),tol = 0.0000001, options = {'maxiter':100000,'disp':True})\n",
    "    transforms.update({tuple(pair):res.x})"
   ]
  },
  {
   "cell_type": "code",
   "execution_count": null,
   "id": "bba989d7",
   "metadata": {},
   "outputs": [],
   "source": [
    "transforms\n",
    "pickle.dump(transforms,open('./transforms.p','wb'))\n",
    "pickle.dump(calibrations,open('./intrinsic_calibrations.p','wb'))"
   ]
  },
  {
   "cell_type": "code",
   "execution_count": null,
   "id": "b55fd2f3",
   "metadata": {},
   "outputs": [],
   "source": [
    "from realsense import RealSenseCamera\n",
    "\n",
    "\n",
    "serial_numbers = {'realsense_left':\"f0220315\",'realsense_right':\"f0271386\",'realsense_torso':\"f0190400\"}\n",
    "\n",
    "cams = {'realsense_left':[],'realsense_right':[],'realsense_torso':[]}\n",
    "pt_clouds = deepcopy(cams)\n",
    "\n",
    "for i in serial_numbers.keys():\n",
    "    print(i)\n",
    "    cams.update({i:RealSenseCamera(serial_numbers[i],'L515',{})})"
   ]
  },
  {
   "cell_type": "code",
   "execution_count": null,
   "id": "5405e629",
   "metadata": {},
   "outputs": [],
   "source": [
    "for i in serial_numbers.keys():\n",
    "    print(\"serial number:\", i)\n",
    "    cams[i].update()\n",
    "    pt_clouds.update({i:cams[i].latest_point_cloud()})"
   ]
  },
  {
   "cell_type": "code",
   "execution_count": null,
   "id": "15311cc3",
   "metadata": {},
   "outputs": [],
   "source": [
    "1280*720"
   ]
  },
  {
   "cell_type": "code",
   "execution_count": null,
   "id": "bce2d861",
   "metadata": {},
   "outputs": [],
   "source": [
    "pt_clouds.keys()"
   ]
  },
  {
   "cell_type": "code",
   "execution_count": null,
   "id": "f32e81de",
   "metadata": {},
   "outputs": [],
   "source": [
    "pcd_dir = 'Calibration/data/point_cloud'\n",
    "for k in pt_clouds.keys():\n",
    "    pcd_fn = pcd_dir+'/'+k.split('_')[-1]+'.npy'\n",
    "    np.save(pcd_fn, pt_clouds[k])"
   ]
  },
  {
   "cell_type": "code",
   "execution_count": null,
   "id": "160a86b9",
   "metadata": {},
   "outputs": [],
   "source": [
    "pcd_dir = 'Calibration/data/point_cloud'\n",
    "keys_list = ['realsense_left','realsense_right','realsense_torso']\n",
    "pcd_dict = load_pc_dict(pcd_dir, keys_list)"
   ]
  },
  {
   "cell_type": "code",
   "execution_count": null,
   "id": "b4612983",
   "metadata": {},
   "outputs": [],
   "source": [
    "left_pcd = o3d.geometry.PointCloud.create_from_rgbd_image(left_rgbd_image, cam_K_dict['realsense_left'], project_valid_depth_only=False)\n",
    "left2torso_E = np.load(trans_dir+'/left2torso.npy')\n",
    "left_pcd.transform(left2torso_E)\n",
    "left_pcd.remove_non_finite_points()\n",
    "\n",
    "right_pcd = o3d.geometry.PointCloud.create_from_rgbd_image(right_rgbd_image, cam_K_dict['realsense_right'], project_valid_depth_only=False)\n",
    "right2torso_E = np.load(trans_dir+'/right2torso.npy')\n",
    "right_pcd.transform(right2torso_E)\n",
    "right_pcd.remove_non_finite_points()\n",
    "\n",
    "o3d.visualization.draw_geometries([left_pcd, right_pcd])"
   ]
  },
  {
   "cell_type": "code",
   "execution_count": null,
   "id": "6aad72b5",
   "metadata": {},
   "outputs": [],
   "source": [
    "%run bag2png.py"
   ]
  },
  {
   "cell_type": "markdown",
   "id": "fe0d64a2",
   "metadata": {},
   "source": [
    "# Verifying the dataset"
   ]
  },
  {
   "cell_type": "code",
   "execution_count": null,
   "id": "7ddec8d5",
   "metadata": {},
   "outputs": [],
   "source": [
    "from glob import glob\n",
    "import numpy as np\n",
    "import open3d as o3d\n",
    "\n",
    "import matplotlib.pyplot as plt\n",
    "%matplotlib inline"
   ]
  },
  {
   "cell_type": "code",
   "execution_count": null,
   "id": "e634f6a7",
   "metadata": {},
   "outputs": [],
   "source": [
    "dataset_folder = 'Dataset/2022-04-21-17-35-22'\n",
    "cam_folders = sorted(glob(dataset_folder+'/*'))\n",
    "\n",
    "dataset_dict = {}\n",
    "\n",
    "for cam_folder in cam_folders:\n",
    "    cam_name = cam_folder.split('/')[-1]\n",
    "\n",
    "    color_dataset = sorted(glob('{}/color/*'.format(cam_folder)))\n",
    "    depth_dataset = sorted(glob('{}/depth/*'.format(cam_folder)))\n",
    "    \n",
    "    dataset_dict.update({'{}_depth'.format(cam_name):depth_dataset,'{}_color'.format(cam_name):color_dataset})"
   ]
  },
  {
   "cell_type": "code",
   "execution_count": null,
   "id": "7716ff12",
   "metadata": {},
   "outputs": [],
   "source": [
    "from create_point_cloud import load_point_cloud"
   ]
  },
  {
   "cell_type": "code",
   "execution_count": null,
   "id": "072642b8",
   "metadata": {},
   "outputs": [],
   "source": [
    "trans_dir = 'Calibration/data/extrinsics'"
   ]
  },
  {
   "cell_type": "code",
   "execution_count": null,
   "id": "dcd99f89",
   "metadata": {},
   "outputs": [],
   "source": [
    "cameras = ['left','right','torso']\n",
    "for i in range(100):\n",
    "    point_clouds = []\n",
    "    for camera in cameras:\n",
    "        depth_list = dataset_dict['cam_{}_depth'.format(camera)]\n",
    "        color_list = dataset_dict['cam_{}_color'.format(camera)]\n",
    "        print(\"color fn:\", color_list[i])\n",
    "        print(\"depth fn:\", depth_list[i])\n",
    "        pcd = load_point_cloud(color_list[i],depth_list[i],'realsense_{}'.format(camera))\n",
    "        if camera != 'torso':               \n",
    "            E2torso = np.load(trans_dir+f'/{camera}2torso.npy')\n",
    "            pcd.transform(E2torso)\n",
    "        point_clouds.append(pcd)\n",
    "    \n",
    "    o3d.visualization.draw_geometries(point_clouds)"
   ]
  },
  {
   "cell_type": "code",
   "execution_count": null,
   "id": "1c0f18a9",
   "metadata": {},
   "outputs": [],
   "source": [
    "import pandas as pd\n",
    "\n",
    "dataframes = {}\n",
    "for i in dataset_dict.keys():\n",
    "    df = pd.DataFrame({'frame':dataset_dict[i]})\n",
    "    timestamps = df.frame.str.split('_',expand = True).iloc[:,-1].str.split('.',expand = True).iloc[:,0].astype(float)\n",
    "    df['timestamps'] = timestamps\n",
    "    df.columns = [i,'timestamps']\n",
    "    dataframes.update({i:df})"
   ]
  },
  {
   "cell_type": "code",
   "execution_count": null,
   "id": "fe796278",
   "metadata": {},
   "outputs": [],
   "source": [
    "dict_keys = list(dataset_dict.keys())\n",
    "original_df = dataframes[dict_keys[0]]\n",
    "for i in dict_keys[1:]:\n",
    "    original_df[i] = np.nan"
   ]
  },
  {
   "cell_type": "code",
   "execution_count": null,
   "id": "e6c3ee8d",
   "metadata": {},
   "outputs": [],
   "source": [
    "sorted_df = original_df.sort_values(by = 'timestamps')\n",
    "filled_df = sorted_df.fillna(method= 'ffill',limit = 11)"
   ]
  },
  {
   "cell_type": "code",
   "execution_count": null,
   "id": "5eac44ee",
   "metadata": {},
   "outputs": [],
   "source": [
    "for i in range(original_df.shape[0]):\n",
    "    timestamp = original_df.timestamps[i]\n",
    "    for j in dict_keys[1:]:\n",
    "        td = np.min(np.abs(dataframes[j].timestamps-timestamp))/1000000000\n",
    "        index = np.argmin(np.abs(dataframes[j].timestamps-timestamp))\n",
    "        if(td < 1/60):\n",
    "            original_df.loc[i,j] = dataframes[j].loc[index,j]"
   ]
  },
  {
   "cell_type": "code",
   "execution_count": null,
   "id": "65e3e090",
   "metadata": {},
   "outputs": [],
   "source": [
    "original_df.shape"
   ]
  },
  {
   "cell_type": "code",
   "execution_count": null,
   "id": "6dc24ec4",
   "metadata": {},
   "outputs": [],
   "source": [
    "clean_df = original_df.dropna()\n",
    "clean_df.reset_index(drop = True, inplace = True)"
   ]
  },
  {
   "cell_type": "code",
   "execution_count": null,
   "id": "069ef827",
   "metadata": {},
   "outputs": [],
   "source": [
    "cameras = ['left','right','torso']\n",
    "for i in range(100):\n",
    "    point_clouds = []\n",
    "    for camera in cameras:\n",
    "#         depth_list = dataset_dict['cam_{}_depth'.format(camera)]\n",
    "#         color_list = dataset_dict['cam_{}_color'.format(camera)]\n",
    "#         print(\"color fn:\", color_list[i])\n",
    "#         print(\"depth fn:\", depth_list[i])\n",
    "        \n",
    "        pcd = load_point_cloud(clean_df.loc[i,'cam_{}_color'.format(camera)],clean_df.loc[i,'cam_{}_depth'.format(camera)],'realsense_{}'.format(camera))\n",
    "#         uni_down_pcd = pcd.uniform_down_sample(every_k_points=5)\n",
    "#         pcd, ind = pcd.remove_radius_outlier(nb_points=16, radius=0.05)\n",
    "        if camera != 'torso':               \n",
    "            E2torso = np.load(trans_dir+f'/{camera}2torso.npy')\n",
    "            pcd.transform(E2torso)\n",
    "        point_clouds.append(pcd)\n",
    "    \n",
    "    o3d.visualization.draw_geometries(point_clouds)"
   ]
  }
 ],
 "metadata": {
  "kernelspec": {
   "display_name": "Python 3 (ipykernel)",
   "language": "python",
   "name": "python3"
  },
  "language_info": {
   "codemirror_mode": {
    "name": "ipython",
    "version": 3
   },
   "file_extension": ".py",
   "mimetype": "text/x-python",
   "name": "python",
   "nbconvert_exporter": "python",
   "pygments_lexer": "ipython3",
   "version": "3.7.13"
  },
  "toc": {
   "base_numbering": 1,
   "nav_menu": {},
   "number_sections": true,
   "sideBar": true,
   "skip_h1_title": false,
   "title_cell": "Table of Contents",
   "title_sidebar": "Contents",
   "toc_cell": false,
   "toc_position": {},
   "toc_section_display": true,
   "toc_window_display": false
  }
 },
 "nbformat": 4,
 "nbformat_minor": 5
}
